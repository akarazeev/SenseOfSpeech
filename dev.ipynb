{
 "cells": [
  {
   "cell_type": "code",
   "execution_count": 215,
   "metadata": {},
   "outputs": [],
   "source": [
    "import numpy as np\n",
    "import soundfile as sf\n",
    "\n",
    "# import Vokaturi\n",
    "import sys\n",
    "sys.path.append(\"open_vok/api\")\n",
    "import Vokaturi\n",
    "Vokaturi.load(\"open_vok/lib/Vokaturi_mac.so\")\n",
    "\n",
    "import audiotranscode\n",
    "import emoji\n",
    "\n",
    "from util import logger, emotion_file_path, emo_distribution, to_text, emodict_from_samples\n",
    "from accessories import actions, rev_actions, rev_mapping\n",
    "\n",
    "import tqdm"
   ]
  },
  {
   "cell_type": "markdown",
   "metadata": {},
   "source": [
    "# Finding audio samples of emotions"
   ]
  },
  {
   "cell_type": "code",
   "execution_count": 200,
   "metadata": {
    "collapsed": true
   },
   "outputs": [],
   "source": [
    "def get_emo_dicts(file_name_in, nsec=10):\n",
    "    samples, sample_rate = sf.read(file_name_in)\n",
    "    \n",
    "    def sec_to_ind(second):\n",
    "        return sample_rate * second\n",
    "    \n",
    "    tmp_indices = np.arange(sec_to_ind(nsec), len(samples), sec_to_ind(nsec))\n",
    "\n",
    "    splitted = np.split(samples, tmp_indices)[:-1]\n",
    "    assert all(list(map(lambda x: len(x) == sec_to_ind(nsec), splitted)))\n",
    "    \n",
    "    emo_dicts = list(map(lambda x: emodict_from_samples(x, sample_rate), splitted))\n",
    "    emo_dicts = list(filter(lambda x: x[0] == 1, emo_dicts))\n",
    "    emo_dicts = list(map(lambda x: x[1], emo_dicts))\n",
    "    emo_dicts = list(zip(emo_dicts, tmp_indices))\n",
    "    \n",
    "    return splitted, emo_dicts\n",
    "\n",
    "def get_sorted(splitted, emo_dicts, emotion):\n",
    "    emotions = list(map(lambda x: x[0][emotion], emo_dicts))\n",
    "    emotions = list(enumerate(emotions))\n",
    "    \n",
    "    emotions_sorted = sorted(emotions, key=lambda x: x[1], reverse=True)\n",
    "    \n",
    "    return splitted, emotions_sorted"
   ]
  },
  {
   "cell_type": "code",
   "execution_count": 190,
   "metadata": {},
   "outputs": [],
   "source": [
    "splitted, emo_dicts = get_emo_dicts('../tim_urban.wav')"
   ]
  },
  {
   "cell_type": "code",
   "execution_count": 216,
   "metadata": {},
   "outputs": [
    {
     "name": "stderr",
     "output_type": "stream",
     "text": [
      "100%|██████████| 5/5 [00:01<00:00,  4.38it/s]\n"
     ]
    }
   ],
   "source": [
    "for emotion in tqdm.tqdm([\"neutrality\", \"happiness\", \"sadness\", \"anger\", \"fear\"]):\n",
    "    splitted, emotions_sorted = get_sorted(splitted, emo_dicts, emotion)\n",
    "    topn = 4\n",
    "    for record in emotions_sorted[:4]:\n",
    "        file_name_out = 'res/audio_emotions/{}_{}.wav'.format(emotion, str(record[1])[2:])\n",
    "        sample_to_save = splitted[record[0]]\n",
    "        sf.write(file_name_out, sample_to_save, sample_rate, 'PCM_24')"
   ]
  },
  {
   "cell_type": "markdown",
   "metadata": {},
   "source": [
    "# Sending audio samples of emotions"
   ]
  },
  {
   "cell_type": "code",
   "execution_count": 222,
   "metadata": {
    "collapsed": true
   },
   "outputs": [],
   "source": [
    "import os\n",
    "\n",
    "def get_dict_of_emotions():\n",
    "    \"\"\"\n",
    "    :return: dict of emotions and paths to audio examples\n",
    "    \"\"\"\n",
    "    list_res = list(filter(lambda x: x[0] != '.', os.listdir(os.path.join('res', 'audio_emotions'))))\n",
    "    splitted = list(map(lambda x: x.split('_'), list_res))\n",
    "    tuples3 = list(map(lambda x: (x[1], '_'.join(x)), filter(lambda x: x[0] == '3', splitted)))\n",
    "\n",
    "    return dict(tuples3)"
   ]
  },
  {
   "cell_type": "code",
   "execution_count": 223,
   "metadata": {},
   "outputs": [
    {
     "data": {
      "text/plain": [
       "{'anger': '3_anger_9995287435466227.wav',\n",
       " 'fear': '3_fear_9755983599427229.wav',\n",
       " 'happiness': '3_happiness_7852061984234702.wav',\n",
       " 'neutrality': '3_neutrality_987074043745762.wav',\n",
       " 'sadness': '3_sadness_08248565414639678.wav'}"
      ]
     },
     "execution_count": 223,
     "metadata": {},
     "output_type": "execute_result"
    }
   ],
   "source": [
    "get_dict_of_emotions()"
   ]
  },
  {
   "cell_type": "code",
   "execution_count": 234,
   "metadata": {},
   "outputs": [],
   "source": [
    "list_res = list(filter(lambda x: x[0] != '.', os.listdir(os.path.join('res', 'audio_emotions'))))\n",
    "splitted = list(map(lambda x: x.split('_'), list_res))\n",
    "tuples2 = list(map(lambda x: (x[0], '_'.join(x)), filter(lambda x: len(x) == 2, splitted)))"
   ]
  },
  {
   "cell_type": "code",
   "execution_count": 235,
   "metadata": {},
   "outputs": [
    {
     "data": {
      "text/plain": [
       "[('sadness', 'sadness_2703179208004744.wav'),\n",
       " ('fear', 'fear_7699375940356165.wav'),\n",
       " ('happiness', 'happiness_5944161044225376.wav'),\n",
       " ('fear', 'fear_8464279948590564.wav'),\n",
       " ('anger', 'anger_9992815572033784.wav'),\n",
       " ('neutrality', 'neutrality_987074043745762.wav'),\n",
       " ('happiness', 'happiness_542702566775099.wav'),\n",
       " ('fear', 'fear_9755983599427229.wav'),\n",
       " ('anger', 'anger_9995287435466227.wav'),\n",
       " ('happiness', 'happiness_6045050145985089.wav'),\n",
       " ('sadness', 'sadness_11544415614705221.wav'),\n",
       " ('sadness', 'sadness_2401697077223822.wav'),\n",
       " ('anger', 'anger_9994545645155642.wav'),\n",
       " ('happiness', 'happiness_7852061984234702.wav'),\n",
       " ('neutrality', 'neutrality_6988170650367929.wav'),\n",
       " ('fear', 'fear_9196001111935143.wav'),\n",
       " ('neutrality', 'neutrality_723136625324559.wav'),\n",
       " ('neutrality', 'neutrality_40830219533825574.wav'),\n",
       " ('anger', 'anger_9994360410126384.wav')]"
      ]
     },
     "execution_count": 235,
     "metadata": {},
     "output_type": "execute_result"
    }
   ],
   "source": [
    "tuples2"
   ]
  },
  {
   "cell_type": "code",
   "execution_count": 236,
   "metadata": {
    "collapsed": true
   },
   "outputs": [],
   "source": [
    "files_dict = dict()"
   ]
  },
  {
   "cell_type": "code",
   "execution_count": 237,
   "metadata": {
    "collapsed": true
   },
   "outputs": [],
   "source": [
    "for elem in tuples2:\n",
    "    if elem[0] in files_dict:\n",
    "        files_dict[elem[0]].append(elem[1])\n",
    "    else:\n",
    "        files_dict[elem[0]] = [elem[1]]"
   ]
  },
  {
   "cell_type": "code",
   "execution_count": 239,
   "metadata": {},
   "outputs": [
    {
     "data": {
      "text/plain": [
       "['anger_9992815572033784.wav',\n",
       " 'anger_9995287435466227.wav',\n",
       " 'anger_9994545645155642.wav',\n",
       " 'anger_9994360410126384.wav']"
      ]
     },
     "execution_count": 239,
     "metadata": {},
     "output_type": "execute_result"
    }
   ],
   "source": [
    "files_dict['anger']"
   ]
  },
  {
   "cell_type": "code",
   "execution_count": 283,
   "metadata": {},
   "outputs": [
    {
     "data": {
      "text/plain": [
       "2"
      ]
     },
     "execution_count": 283,
     "metadata": {},
     "output_type": "execute_result"
    }
   ],
   "source": [
    "np.random.randint(0,4)"
   ]
  }
 ],
 "metadata": {
  "kernelspec": {
   "display_name": "Python 3",
   "language": "python",
   "name": "python3"
  },
  "language_info": {
   "codemirror_mode": {
    "name": "ipython",
    "version": 3
   },
   "file_extension": ".py",
   "mimetype": "text/x-python",
   "name": "python",
   "nbconvert_exporter": "python",
   "pygments_lexer": "ipython3",
   "version": "3.6.2"
  }
 },
 "nbformat": 4,
 "nbformat_minor": 2
}
