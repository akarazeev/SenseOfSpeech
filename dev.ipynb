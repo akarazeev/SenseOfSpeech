{
 "cells": [
  {
   "cell_type": "markdown",
   "metadata": {},
   "source": [
    "# OGG -> WAV"
   ]
  },
  {
   "cell_type": "code",
   "execution_count": 16,
   "metadata": {
    "collapsed": true
   },
   "outputs": [],
   "source": [
    "import numpy as np\n",
    "import soundfile as sf\n",
    "import typing\n",
    "\n",
    "# import Vokaturi\n",
    "import sys\n",
    "sys.path.append(\"../api\")\n",
    "import Vokaturi\n",
    "Vokaturi.load(\"../lib/Vokaturi_mac.so\")\n",
    "\n",
    "import audiotranscode\n",
    "import emoji"
   ]
  },
  {
   "cell_type": "code",
   "execution_count": 20,
   "metadata": {},
   "outputs": [],
   "source": [
    "def get_sample(path_ogg: str) -> tuple([np.array, int]):\n",
    "    \"\"\"\n",
    "    :param path_ogg: path to .ogg file\n",
    "    :return: samples of audio file and its sample rate\n",
    "    \"\"\"\n",
    "    path_wav = path_ogg[:-3] + 'wav'\n",
    "    \n",
    "    at = audiotranscode.AudioTranscode()    \n",
    "    at.transcode(path_ogg, path_wav)\n",
    "    \n",
    "    (samples, sample_rate) = sf.read(path_wav)\n",
    "\n",
    "    return samples, sample_rate\n",
    "\n",
    "def emotion_wrapper(path_ogg: str) -> tuple([bool, dict]):\n",
    "    \"\"\"\n",
    "    :param path_ogg: path to .ogg file\n",
    "    :return: indicator of validity and dictionary with detected\n",
    "             emotions and its probabilities\n",
    "    \"\"\"\n",
    "    (samples, sample_rate) = get_sample(path_ogg)\n",
    "    buffer_length = len(samples)\n",
    "    \n",
    "    c_buffer = Vokaturi.SampleArrayC(buffer_length)\n",
    "    c_buffer[:] = samples[:]\n",
    "\n",
    "    voice = Vokaturi.Voice(sample_rate, buffer_length)\n",
    "\n",
    "    # filling Voice with `samples`\n",
    "    voice.fill(buffer_length, c_buffer)\n",
    "    quality = Vokaturi.Quality()\n",
    "    emotionProbabilities = Vokaturi.EmotionProbabilities()\n",
    "    voice.extract(quality, emotionProbabilities)\n",
    "    voice.destroy()\n",
    "\n",
    "    quality.num_frames_analyzed\n",
    "    \n",
    "    emo_dict = {\"neutrality\": emotionProbabilities.neutrality,\n",
    "                \"happiness\": emotionProbabilities.happiness,\n",
    "                \"sadness\": emotionProbabilities.sadness,\n",
    "                \"anger\": emotionProbabilities.anger,\n",
    "                \"fear\": emotionProbabilities.fear}\n",
    "\n",
    "    return quality.valid, emo_dict"
   ]
  },
  {
   "cell_type": "code",
   "execution_count": 57,
   "metadata": {
    "collapsed": true
   },
   "outputs": [],
   "source": [
    "def with_emoji(emo_dict: dict, mapping: dict) -> list:\n",
    "    \"\"\"\n",
    "    :param emo_dict:\n",
    "    :param mapping:\n",
    "    :return:\n",
    "    \"\"\"\n",
    "    text = []\n",
    "\n",
    "    for emo, prob in emo_dict.items():\n",
    "        text.append(emoji.emojize('{emo_str}: {prob_str:.3f}'.format(emo_str=mapping[emo],\n",
    "                                                                 prob_str=prob), use_aliases=True))\n",
    "        \n",
    "    return text"
   ]
  },
  {
   "cell_type": "markdown",
   "metadata": {},
   "source": [
    "# Work with test.wav"
   ]
  },
  {
   "cell_type": "code",
   "execution_count": 21,
   "metadata": {},
   "outputs": [
    {
     "name": "stdout",
     "output_type": "stream",
     "text": [
      "😐 0.001\n",
      "😄 0.000\n",
      "😔 0.003\n",
      "😲 0.996\n",
      "😱 0.000\n"
     ]
    }
   ],
   "source": [
    "if quality.valid:\n",
    "    print(emoji.emojize(':neutral_face: %.3f', use_aliases=True) % emotionProbabilities.neutrality)\n",
    "    print(emoji.emojize(\":smile: %.3f\", use_aliases=True) % emotionProbabilities.happiness)\n",
    "    print(emoji.emojize(\":pensive: %.3f\", use_aliases=True) % emotionProbabilities.sadness)\n",
    "    print(emoji.emojize(\":astonished: %.3f\", use_aliases=True) % emotionProbabilities.anger)\n",
    "    print(emoji.emojize(\":scream: %.3f\", use_aliases=True) % emotionProbabilities.fear)\n",
    "else:\n",
    "    print (\"Not enough sonorancy to determine emotions\")"
   ]
  },
  {
   "cell_type": "code",
   "execution_count": 22,
   "metadata": {},
   "outputs": [
    {
     "data": {
      "text/plain": [
       "(1,\n",
       " {'anger': 0.9957252540976576,\n",
       "  'fear': 3.192306066297615e-12,\n",
       "  'happiness': 0.0004755844285208308,\n",
       "  'neutrality': 0.000608280949175865,\n",
       "  'sadness': 0.0031908805214534344})"
      ]
     },
     "execution_count": 22,
     "metadata": {},
     "output_type": "execute_result"
    }
   ],
   "source": [
    "emotion_wrapper('wow_sure.ogg')"
   ]
  },
  {
   "cell_type": "code",
   "execution_count": 38,
   "metadata": {},
   "outputs": [],
   "source": [
    "emo_mapping = {\n",
    "    'anger': ':astonished:',\n",
    "    'fear': ':scream:',\n",
    "    'happiness': ':smile:',\n",
    "    'neutrality': ':neutral_face:',\n",
    "    'sadness': ':pensive:'\n",
    "}"
   ]
  },
  {
   "cell_type": "code",
   "execution_count": 54,
   "metadata": {
    "collapsed": true
   },
   "outputs": [],
   "source": [
    "valid, emo_dict = emotion_wrapper('wow_sure.ogg')"
   ]
  },
  {
   "cell_type": "code",
   "execution_count": 59,
   "metadata": {},
   "outputs": [
    {
     "data": {
      "text/plain": [
       "1"
      ]
     },
     "execution_count": 59,
     "metadata": {},
     "output_type": "execute_result"
    }
   ],
   "source": []
  },
  {
   "cell_type": "code",
   "execution_count": 56,
   "metadata": {},
   "outputs": [
    {
     "data": {
      "text/plain": [
       "{'anger': 0.9957252540976576,\n",
       " 'fear': 3.192306066297615e-12,\n",
       " 'happiness': 0.0004755844285208308,\n",
       " 'neutrality': 0.000608280949175865,\n",
       " 'sadness': 0.0031908805214534344}"
      ]
     },
     "execution_count": 56,
     "metadata": {},
     "output_type": "execute_result"
    }
   ],
   "source": [
    "emo_dict"
   ]
  },
  {
   "cell_type": "code",
   "execution_count": 71,
   "metadata": {},
   "outputs": [
    {
     "name": "stdout",
     "output_type": "stream",
     "text": [
      "😐: 0.001\n",
      "😄: 0.000\n",
      "😔: 0.003\n",
      "😲: 0.996\n",
      "😱: 0.000\n"
     ]
    }
   ],
   "source": [
    "if valid:\n",
    "    print('\\n'.join(with_emoji(emo_dict, emo_mapping)))\n",
    "else:\n",
    "    err_message = emoji.emojize(\"¯\\_(ツ)_/¯\", use_aliases=True)\n",
    "    print(err_message)"
   ]
  },
  {
   "cell_type": "code",
   "execution_count": 75,
   "metadata": {},
   "outputs": [
    {
     "data": {
      "text/plain": [
       "{'anger': 0.9957252540976576,\n",
       " 'fear': 3.192306066297615e-12,\n",
       " 'happiness': 0.0004755844285208308,\n",
       " 'neutrality': 0.000608280949175865,\n",
       " 'sadness': 0.0031908805214534344}"
      ]
     },
     "execution_count": 75,
     "metadata": {},
     "output_type": "execute_result"
    }
   ],
   "source": [
    "emo_dict"
   ]
  },
  {
   "cell_type": "code",
   "execution_count": 76,
   "metadata": {
    "collapsed": true
   },
   "outputs": [],
   "source": [
    "testdict = {'a': 1, 'b': 2}"
   ]
  },
  {
   "cell_type": "code",
   "execution_count": 83,
   "metadata": {},
   "outputs": [
    {
     "data": {
      "text/plain": [
       "{1: 'a', 2: 'b'}"
      ]
     },
     "execution_count": 83,
     "metadata": {},
     "output_type": "execute_result"
    }
   ],
   "source": [
    "dict(zip(testdict.values(), testdict.keys()))"
   ]
  }
 ],
 "metadata": {
  "kernelspec": {
   "display_name": "Python 3",
   "language": "python",
   "name": "python3"
  },
  "language_info": {
   "codemirror_mode": {
    "name": "ipython",
    "version": 3
   },
   "file_extension": ".py",
   "mimetype": "text/x-python",
   "name": "python",
   "nbconvert_exporter": "python",
   "pygments_lexer": "ipython3",
   "version": "3.6.2"
  }
 },
 "nbformat": 4,
 "nbformat_minor": 2
}
