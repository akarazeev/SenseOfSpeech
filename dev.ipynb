{
 "cells": [
  {
   "cell_type": "markdown",
   "metadata": {},
   "source": [
    "# OGG -> WAV"
   ]
  },
  {
   "cell_type": "code",
   "execution_count": 5,
   "metadata": {},
   "outputs": [],
   "source": [
    "import numpy as np\n",
    "import soundfile as sf\n",
    "import typing\n",
    "\n",
    "# import Vokaturi\n",
    "import sys\n",
    "sys.path.append(\"open_vok/api\")\n",
    "import Vokaturi\n",
    "Vokaturi.load(\"open_vok/lib/Vokaturi_mac.so\")\n",
    "\n",
    "import audiotranscode\n",
    "import emoji"
   ]
  },
  {
   "cell_type": "code",
   "execution_count": 6,
   "metadata": {
    "collapsed": true
   },
   "outputs": [],
   "source": [
    "def get_sample(path_ogg: str) -> tuple([np.array, int]):\n",
    "    \"\"\"\n",
    "    :param path_ogg: path to .ogg file\n",
    "    :return: samples of audio file and its sample rate\n",
    "    \"\"\"\n",
    "    path_wav = path_ogg[:-3] + 'wav'\n",
    "    \n",
    "    at = audiotranscode.AudioTranscode()    \n",
    "    at.transcode(path_ogg, path_wav)\n",
    "    \n",
    "    (samples, sample_rate) = sf.read(path_wav)\n",
    "\n",
    "    return samples, sample_rate\n",
    "\n",
    "def emotion_wrapper(path_ogg: str) -> tuple([bool, dict]):\n",
    "    \"\"\"\n",
    "    :param path_ogg: path to .ogg file\n",
    "    :return: indicator of validity and dictionary with detected\n",
    "             emotions and its probabilities\n",
    "    \"\"\"\n",
    "    (samples, sample_rate) = get_sample(path_ogg)\n",
    "    buffer_length = len(samples)\n",
    "    \n",
    "    c_buffer = Vokaturi.SampleArrayC(buffer_length)\n",
    "    c_buffer[:] = samples[:]\n",
    "\n",
    "    voice = Vokaturi.Voice(sample_rate, buffer_length)\n",
    "\n",
    "    # filling Voice with `samples`\n",
    "    voice.fill(buffer_length, c_buffer)\n",
    "    quality = Vokaturi.Quality()\n",
    "    emotionProbabilities = Vokaturi.EmotionProbabilities()\n",
    "    voice.extract(quality, emotionProbabilities)\n",
    "    voice.destroy()\n",
    "\n",
    "    quality.num_frames_analyzed\n",
    "    \n",
    "    emo_dict = {\"neutrality\": emotionProbabilities.neutrality,\n",
    "                \"happiness\": emotionProbabilities.happiness,\n",
    "                \"sadness\": emotionProbabilities.sadness,\n",
    "                \"anger\": emotionProbabilities.anger,\n",
    "                \"fear\": emotionProbabilities.fear}\n",
    "\n",
    "    return quality.valid, emo_dict"
   ]
  },
  {
   "cell_type": "code",
   "execution_count": 7,
   "metadata": {
    "collapsed": true
   },
   "outputs": [],
   "source": [
    "def with_emoji(emo_dict: dict, mapping: dict) -> list:\n",
    "    \"\"\"\n",
    "    :param emo_dict:\n",
    "    :param mapping:\n",
    "    :return:\n",
    "    \"\"\"\n",
    "    text = []\n",
    "\n",
    "    for emo, prob in emo_dict.items():\n",
    "        text.append(emoji.emojize('{emo_str}: {prob_str:.3f}'.format(emo_str=mapping[emo],\n",
    "                                                                 prob_str=prob), use_aliases=True))\n",
    "        \n",
    "    return text"
   ]
  },
  {
   "cell_type": "markdown",
   "metadata": {},
   "source": [
    "# Work with test.wav"
   ]
  },
  {
   "cell_type": "code",
   "execution_count": 8,
   "metadata": {},
   "outputs": [
    {
     "ename": "NameError",
     "evalue": "name 'quality' is not defined",
     "output_type": "error",
     "traceback": [
      "\u001b[0;31m---------------------------------------------------------------------------\u001b[0m",
      "\u001b[0;31mNameError\u001b[0m                                 Traceback (most recent call last)",
      "\u001b[0;32m<ipython-input-8-31d84da79077>\u001b[0m in \u001b[0;36m<module>\u001b[0;34m()\u001b[0m\n\u001b[0;32m----> 1\u001b[0;31m \u001b[0;32mif\u001b[0m \u001b[0mquality\u001b[0m\u001b[0;34m.\u001b[0m\u001b[0mvalid\u001b[0m\u001b[0;34m:\u001b[0m\u001b[0;34m\u001b[0m\u001b[0m\n\u001b[0m\u001b[1;32m      2\u001b[0m     \u001b[0mprint\u001b[0m\u001b[0;34m(\u001b[0m\u001b[0memoji\u001b[0m\u001b[0;34m.\u001b[0m\u001b[0memojize\u001b[0m\u001b[0;34m(\u001b[0m\u001b[0;34m':neutral_face: %.3f'\u001b[0m\u001b[0;34m,\u001b[0m \u001b[0muse_aliases\u001b[0m\u001b[0;34m=\u001b[0m\u001b[0;32mTrue\u001b[0m\u001b[0;34m)\u001b[0m \u001b[0;34m%\u001b[0m \u001b[0memotionProbabilities\u001b[0m\u001b[0;34m.\u001b[0m\u001b[0mneutrality\u001b[0m\u001b[0;34m)\u001b[0m\u001b[0;34m\u001b[0m\u001b[0m\n\u001b[1;32m      3\u001b[0m     \u001b[0mprint\u001b[0m\u001b[0;34m(\u001b[0m\u001b[0memoji\u001b[0m\u001b[0;34m.\u001b[0m\u001b[0memojize\u001b[0m\u001b[0;34m(\u001b[0m\u001b[0;34m\":smile: %.3f\"\u001b[0m\u001b[0;34m,\u001b[0m \u001b[0muse_aliases\u001b[0m\u001b[0;34m=\u001b[0m\u001b[0;32mTrue\u001b[0m\u001b[0;34m)\u001b[0m \u001b[0;34m%\u001b[0m \u001b[0memotionProbabilities\u001b[0m\u001b[0;34m.\u001b[0m\u001b[0mhappiness\u001b[0m\u001b[0;34m)\u001b[0m\u001b[0;34m\u001b[0m\u001b[0m\n\u001b[1;32m      4\u001b[0m     \u001b[0mprint\u001b[0m\u001b[0;34m(\u001b[0m\u001b[0memoji\u001b[0m\u001b[0;34m.\u001b[0m\u001b[0memojize\u001b[0m\u001b[0;34m(\u001b[0m\u001b[0;34m\":pensive: %.3f\"\u001b[0m\u001b[0;34m,\u001b[0m \u001b[0muse_aliases\u001b[0m\u001b[0;34m=\u001b[0m\u001b[0;32mTrue\u001b[0m\u001b[0;34m)\u001b[0m \u001b[0;34m%\u001b[0m \u001b[0memotionProbabilities\u001b[0m\u001b[0;34m.\u001b[0m\u001b[0msadness\u001b[0m\u001b[0;34m)\u001b[0m\u001b[0;34m\u001b[0m\u001b[0m\n\u001b[1;32m      5\u001b[0m     \u001b[0mprint\u001b[0m\u001b[0;34m(\u001b[0m\u001b[0memoji\u001b[0m\u001b[0;34m.\u001b[0m\u001b[0memojize\u001b[0m\u001b[0;34m(\u001b[0m\u001b[0;34m\":astonished: %.3f\"\u001b[0m\u001b[0;34m,\u001b[0m \u001b[0muse_aliases\u001b[0m\u001b[0;34m=\u001b[0m\u001b[0;32mTrue\u001b[0m\u001b[0;34m)\u001b[0m \u001b[0;34m%\u001b[0m \u001b[0memotionProbabilities\u001b[0m\u001b[0;34m.\u001b[0m\u001b[0manger\u001b[0m\u001b[0;34m)\u001b[0m\u001b[0;34m\u001b[0m\u001b[0m\n",
      "\u001b[0;31mNameError\u001b[0m: name 'quality' is not defined"
     ]
    }
   ],
   "source": [
    "if quality.valid:\n",
    "    print(emoji.emojize(':neutral_face: %.3f', use_aliases=True) % emotionProbabilities.neutrality)\n",
    "    print(emoji.emojize(\":smile: %.3f\", use_aliases=True) % emotionProbabilities.happiness)\n",
    "    print(emoji.emojize(\":pensive: %.3f\", use_aliases=True) % emotionProbabilities.sadness)\n",
    "    print(emoji.emojize(\":astonished: %.3f\", use_aliases=True) % emotionProbabilities.anger)\n",
    "    print(emoji.emojize(\":scream: %.3f\", use_aliases=True) % emotionProbabilities.fear)\n",
    "else:\n",
    "    print (\"Not enough sonorancy to determine emotions\")"
   ]
  },
  {
   "cell_type": "code",
   "execution_count": 9,
   "metadata": {},
   "outputs": [
    {
     "ename": "OSError",
     "evalue": "File not Found! Cannot decode \"file\" /Users/AntonKarazeev/WD/neurohack/SenseOfSpeech/wow_sure.ogg",
     "output_type": "error",
     "traceback": [
      "\u001b[0;31m---------------------------------------------------------------------------\u001b[0m",
      "\u001b[0;31mOSError\u001b[0m                                   Traceback (most recent call last)",
      "\u001b[0;32m<ipython-input-9-6384c7cce54a>\u001b[0m in \u001b[0;36m<module>\u001b[0;34m()\u001b[0m\n\u001b[0;32m----> 1\u001b[0;31m \u001b[0memotion_wrapper\u001b[0m\u001b[0;34m(\u001b[0m\u001b[0;34m'wow_sure.ogg'\u001b[0m\u001b[0;34m)\u001b[0m\u001b[0;34m\u001b[0m\u001b[0m\n\u001b[0m",
      "\u001b[0;32m<ipython-input-6-f50c4156a715>\u001b[0m in \u001b[0;36memotion_wrapper\u001b[0;34m(path_ogg)\u001b[0m\n\u001b[1;32m     19\u001b[0m              \u001b[0memotions\u001b[0m \u001b[0;32mand\u001b[0m \u001b[0mits\u001b[0m \u001b[0mprobabilities\u001b[0m\u001b[0;34m\u001b[0m\u001b[0m\n\u001b[1;32m     20\u001b[0m     \"\"\"\n\u001b[0;32m---> 21\u001b[0;31m     \u001b[0;34m(\u001b[0m\u001b[0msamples\u001b[0m\u001b[0;34m,\u001b[0m \u001b[0msample_rate\u001b[0m\u001b[0;34m)\u001b[0m \u001b[0;34m=\u001b[0m \u001b[0mget_sample\u001b[0m\u001b[0;34m(\u001b[0m\u001b[0mpath_ogg\u001b[0m\u001b[0;34m)\u001b[0m\u001b[0;34m\u001b[0m\u001b[0m\n\u001b[0m\u001b[1;32m     22\u001b[0m     \u001b[0mbuffer_length\u001b[0m \u001b[0;34m=\u001b[0m \u001b[0mlen\u001b[0m\u001b[0;34m(\u001b[0m\u001b[0msamples\u001b[0m\u001b[0;34m)\u001b[0m\u001b[0;34m\u001b[0m\u001b[0m\n\u001b[1;32m     23\u001b[0m \u001b[0;34m\u001b[0m\u001b[0m\n",
      "\u001b[0;32m<ipython-input-6-f50c4156a715>\u001b[0m in \u001b[0;36mget_sample\u001b[0;34m(path_ogg)\u001b[0m\n\u001b[1;32m      7\u001b[0m \u001b[0;34m\u001b[0m\u001b[0m\n\u001b[1;32m      8\u001b[0m     \u001b[0mat\u001b[0m \u001b[0;34m=\u001b[0m \u001b[0maudiotranscode\u001b[0m\u001b[0;34m.\u001b[0m\u001b[0mAudioTranscode\u001b[0m\u001b[0;34m(\u001b[0m\u001b[0;34m)\u001b[0m\u001b[0;34m\u001b[0m\u001b[0m\n\u001b[0;32m----> 9\u001b[0;31m     \u001b[0mat\u001b[0m\u001b[0;34m.\u001b[0m\u001b[0mtranscode\u001b[0m\u001b[0;34m(\u001b[0m\u001b[0mpath_ogg\u001b[0m\u001b[0;34m,\u001b[0m \u001b[0mpath_wav\u001b[0m\u001b[0;34m)\u001b[0m\u001b[0;34m\u001b[0m\u001b[0m\n\u001b[0m\u001b[1;32m     10\u001b[0m \u001b[0;34m\u001b[0m\u001b[0m\n\u001b[1;32m     11\u001b[0m     \u001b[0;34m(\u001b[0m\u001b[0msamples\u001b[0m\u001b[0;34m,\u001b[0m \u001b[0msample_rate\u001b[0m\u001b[0;34m)\u001b[0m \u001b[0;34m=\u001b[0m \u001b[0msf\u001b[0m\u001b[0;34m.\u001b[0m\u001b[0mread\u001b[0m\u001b[0;34m(\u001b[0m\u001b[0mpath_wav\u001b[0m\u001b[0;34m)\u001b[0m\u001b[0;34m\u001b[0m\u001b[0m\n",
      "\u001b[0;32m/Users/AntonKarazeev/WD/neurohack/SenseOfSpeech/audiotranscode/__init__.py\u001b[0m in \u001b[0;36mtranscode\u001b[0;34m(self, in_file, out_file, bitrate)\u001b[0m\n\u001b[1;32m    248\u001b[0m         \u001b[0mself\u001b[0m\u001b[0;34m.\u001b[0m\u001b[0mcheck_encoder_available\u001b[0m\u001b[0;34m(\u001b[0m\u001b[0maudioformat\u001b[0m\u001b[0;34m)\u001b[0m\u001b[0;34m\u001b[0m\u001b[0m\n\u001b[1;32m    249\u001b[0m         \u001b[0;32mwith\u001b[0m \u001b[0mopen\u001b[0m\u001b[0;34m(\u001b[0m\u001b[0mout_file\u001b[0m\u001b[0;34m,\u001b[0m \u001b[0;34m'wb'\u001b[0m\u001b[0;34m)\u001b[0m \u001b[0;32mas\u001b[0m \u001b[0mfhandler\u001b[0m\u001b[0;34m:\u001b[0m\u001b[0;34m\u001b[0m\u001b[0m\n\u001b[0;32m--> 250\u001b[0;31m             \u001b[0;32mfor\u001b[0m \u001b[0mdata\u001b[0m \u001b[0;32min\u001b[0m \u001b[0mself\u001b[0m\u001b[0;34m.\u001b[0m\u001b[0mtranscode_stream\u001b[0m\u001b[0;34m(\u001b[0m\u001b[0min_file\u001b[0m\u001b[0;34m,\u001b[0m \u001b[0maudioformat\u001b[0m\u001b[0;34m,\u001b[0m \u001b[0mbitrate\u001b[0m\u001b[0;34m)\u001b[0m\u001b[0;34m:\u001b[0m\u001b[0;34m\u001b[0m\u001b[0m\n\u001b[0m\u001b[1;32m    251\u001b[0m                 \u001b[0mfhandler\u001b[0m\u001b[0;34m.\u001b[0m\u001b[0mwrite\u001b[0m\u001b[0;34m(\u001b[0m\u001b[0mdata\u001b[0m\u001b[0;34m)\u001b[0m\u001b[0;34m\u001b[0m\u001b[0m\n\u001b[1;32m    252\u001b[0m             \u001b[0mfhandler\u001b[0m\u001b[0;34m.\u001b[0m\u001b[0mclose\u001b[0m\u001b[0;34m(\u001b[0m\u001b[0;34m)\u001b[0m\u001b[0;34m\u001b[0m\u001b[0m\n",
      "\u001b[0;32m/Users/AntonKarazeev/WD/neurohack/SenseOfSpeech/audiotranscode/__init__.py\u001b[0m in \u001b[0;36mtranscode_stream\u001b[0;34m(self, filepath, newformat, bitrate, encoder, decoder)\u001b[0m\n\u001b[1;32m    271\u001b[0m         \u001b[0;32mexcept\u001b[0m \u001b[0mException\u001b[0m \u001b[0;32mas\u001b[0m \u001b[0mexc\u001b[0m\u001b[0;34m:\u001b[0m\u001b[0;34m\u001b[0m\u001b[0m\n\u001b[1;32m    272\u001b[0m             \u001b[0;31m#pass on exception, but clean up\u001b[0m\u001b[0;34m\u001b[0m\u001b[0;34m\u001b[0m\u001b[0m\n\u001b[0;32m--> 273\u001b[0;31m             \u001b[0;32mraise\u001b[0m \u001b[0mexc\u001b[0m\u001b[0;34m\u001b[0m\u001b[0m\n\u001b[0m\u001b[1;32m    274\u001b[0m         \u001b[0;32mfinally\u001b[0m\u001b[0;34m:\u001b[0m\u001b[0;34m\u001b[0m\u001b[0m\n\u001b[1;32m    275\u001b[0m             \u001b[0;32mif\u001b[0m \u001b[0mdecoder_process\u001b[0m \u001b[0;32mand\u001b[0m \u001b[0mdecoder_process\u001b[0m\u001b[0;34m.\u001b[0m\u001b[0mpoll\u001b[0m\u001b[0;34m(\u001b[0m\u001b[0;34m)\u001b[0m \u001b[0;32mis\u001b[0m \u001b[0;32mNone\u001b[0m\u001b[0;34m:\u001b[0m\u001b[0;34m\u001b[0m\u001b[0m\n",
      "\u001b[0;32m/Users/AntonKarazeev/WD/neurohack/SenseOfSpeech/audiotranscode/__init__.py\u001b[0m in \u001b[0;36mtranscode_stream\u001b[0;34m(self, filepath, newformat, bitrate, encoder, decoder)\u001b[0m\n\u001b[1;32m    260\u001b[0m         \u001b[0mencoder_process\u001b[0m \u001b[0;34m=\u001b[0m \u001b[0;32mNone\u001b[0m\u001b[0;34m\u001b[0m\u001b[0m\n\u001b[1;32m    261\u001b[0m         \u001b[0;32mtry\u001b[0m\u001b[0;34m:\u001b[0m\u001b[0;34m\u001b[0m\u001b[0m\n\u001b[0;32m--> 262\u001b[0;31m             \u001b[0mdecoder_process\u001b[0m \u001b[0;34m=\u001b[0m \u001b[0mself\u001b[0m\u001b[0;34m.\u001b[0m\u001b[0m_decode\u001b[0m\u001b[0;34m(\u001b[0m\u001b[0mfilepath\u001b[0m\u001b[0;34m,\u001b[0m \u001b[0mdecoder\u001b[0m\u001b[0;34m)\u001b[0m\u001b[0;34m\u001b[0m\u001b[0m\n\u001b[0m\u001b[1;32m    263\u001b[0m             encoder_process = self._encode(newformat, decoder_process,\n\u001b[1;32m    264\u001b[0m                                            bitrate=bitrate, encoder=encoder)\n",
      "\u001b[0;32m/Users/AntonKarazeev/WD/neurohack/SenseOfSpeech/audiotranscode/__init__.py\u001b[0m in \u001b[0;36m_decode\u001b[0;34m(self, filepath, decoder)\u001b[0m\n\u001b[1;32m    205\u001b[0m             \u001b[0mfilepath\u001b[0m \u001b[0;34m=\u001b[0m \u001b[0mos\u001b[0m\u001b[0;34m.\u001b[0m\u001b[0mpath\u001b[0m\u001b[0;34m.\u001b[0m\u001b[0mabspath\u001b[0m\u001b[0;34m(\u001b[0m\u001b[0mfilepath\u001b[0m\u001b[0;34m)\u001b[0m\u001b[0;34m\u001b[0m\u001b[0m\n\u001b[1;32m    206\u001b[0m             \u001b[0merrmsg\u001b[0m \u001b[0;34m=\u001b[0m \u001b[0;34m'File not Found! Cannot decode \"file\" %s'\u001b[0m\u001b[0;34m\u001b[0m\u001b[0m\n\u001b[0;32m--> 207\u001b[0;31m             \u001b[0;32mraise\u001b[0m \u001b[0mIOError\u001b[0m\u001b[0;34m(\u001b[0m\u001b[0merrmsg\u001b[0m \u001b[0;34m%\u001b[0m \u001b[0mfilepath\u001b[0m\u001b[0;34m)\u001b[0m\u001b[0;34m\u001b[0m\u001b[0m\n\u001b[0m\u001b[1;32m    208\u001b[0m         \u001b[0mfiletype\u001b[0m \u001b[0;34m=\u001b[0m \u001b[0m_filetype\u001b[0m\u001b[0;34m(\u001b[0m\u001b[0mfilepath\u001b[0m\u001b[0;34m)\u001b[0m\u001b[0;34m\u001b[0m\u001b[0m\n\u001b[1;32m    209\u001b[0m         \u001b[0;32mif\u001b[0m \u001b[0;32mnot\u001b[0m \u001b[0mfiletype\u001b[0m \u001b[0;32min\u001b[0m \u001b[0mself\u001b[0m\u001b[0;34m.\u001b[0m\u001b[0mavailable_decoder_formats\u001b[0m\u001b[0;34m(\u001b[0m\u001b[0;34m)\u001b[0m\u001b[0;34m:\u001b[0m\u001b[0;34m\u001b[0m\u001b[0m\n",
      "\u001b[0;31mOSError\u001b[0m: File not Found! Cannot decode \"file\" /Users/AntonKarazeev/WD/neurohack/SenseOfSpeech/wow_sure.ogg"
     ]
    }
   ],
   "source": [
    "emotion_wrapper('wow_sure.ogg')"
   ]
  },
  {
   "cell_type": "code",
   "execution_count": 10,
   "metadata": {
    "collapsed": true
   },
   "outputs": [],
   "source": [
    "emo_mapping = {\n",
    "    'anger': ':astonished:',\n",
    "    'fear': ':scream:',\n",
    "    'happiness': ':smile:',\n",
    "    'neutrality': ':neutral_face:',\n",
    "    'sadness': ':pensive:'\n",
    "}"
   ]
  },
  {
   "cell_type": "code",
   "execution_count": 11,
   "metadata": {},
   "outputs": [
    {
     "ename": "OSError",
     "evalue": "File not Found! Cannot decode \"file\" /Users/AntonKarazeev/WD/neurohack/SenseOfSpeech/wow_sure.ogg",
     "output_type": "error",
     "traceback": [
      "\u001b[0;31m---------------------------------------------------------------------------\u001b[0m",
      "\u001b[0;31mOSError\u001b[0m                                   Traceback (most recent call last)",
      "\u001b[0;32m<ipython-input-11-238fd53611bd>\u001b[0m in \u001b[0;36m<module>\u001b[0;34m()\u001b[0m\n\u001b[0;32m----> 1\u001b[0;31m \u001b[0mvalid\u001b[0m\u001b[0;34m,\u001b[0m \u001b[0memo_dict\u001b[0m \u001b[0;34m=\u001b[0m \u001b[0memotion_wrapper\u001b[0m\u001b[0;34m(\u001b[0m\u001b[0;34m'wow_sure.ogg'\u001b[0m\u001b[0;34m)\u001b[0m\u001b[0;34m\u001b[0m\u001b[0m\n\u001b[0m",
      "\u001b[0;32m<ipython-input-6-f50c4156a715>\u001b[0m in \u001b[0;36memotion_wrapper\u001b[0;34m(path_ogg)\u001b[0m\n\u001b[1;32m     19\u001b[0m              \u001b[0memotions\u001b[0m \u001b[0;32mand\u001b[0m \u001b[0mits\u001b[0m \u001b[0mprobabilities\u001b[0m\u001b[0;34m\u001b[0m\u001b[0m\n\u001b[1;32m     20\u001b[0m     \"\"\"\n\u001b[0;32m---> 21\u001b[0;31m     \u001b[0;34m(\u001b[0m\u001b[0msamples\u001b[0m\u001b[0;34m,\u001b[0m \u001b[0msample_rate\u001b[0m\u001b[0;34m)\u001b[0m \u001b[0;34m=\u001b[0m \u001b[0mget_sample\u001b[0m\u001b[0;34m(\u001b[0m\u001b[0mpath_ogg\u001b[0m\u001b[0;34m)\u001b[0m\u001b[0;34m\u001b[0m\u001b[0m\n\u001b[0m\u001b[1;32m     22\u001b[0m     \u001b[0mbuffer_length\u001b[0m \u001b[0;34m=\u001b[0m \u001b[0mlen\u001b[0m\u001b[0;34m(\u001b[0m\u001b[0msamples\u001b[0m\u001b[0;34m)\u001b[0m\u001b[0;34m\u001b[0m\u001b[0m\n\u001b[1;32m     23\u001b[0m \u001b[0;34m\u001b[0m\u001b[0m\n",
      "\u001b[0;32m<ipython-input-6-f50c4156a715>\u001b[0m in \u001b[0;36mget_sample\u001b[0;34m(path_ogg)\u001b[0m\n\u001b[1;32m      7\u001b[0m \u001b[0;34m\u001b[0m\u001b[0m\n\u001b[1;32m      8\u001b[0m     \u001b[0mat\u001b[0m \u001b[0;34m=\u001b[0m \u001b[0maudiotranscode\u001b[0m\u001b[0;34m.\u001b[0m\u001b[0mAudioTranscode\u001b[0m\u001b[0;34m(\u001b[0m\u001b[0;34m)\u001b[0m\u001b[0;34m\u001b[0m\u001b[0m\n\u001b[0;32m----> 9\u001b[0;31m     \u001b[0mat\u001b[0m\u001b[0;34m.\u001b[0m\u001b[0mtranscode\u001b[0m\u001b[0;34m(\u001b[0m\u001b[0mpath_ogg\u001b[0m\u001b[0;34m,\u001b[0m \u001b[0mpath_wav\u001b[0m\u001b[0;34m)\u001b[0m\u001b[0;34m\u001b[0m\u001b[0m\n\u001b[0m\u001b[1;32m     10\u001b[0m \u001b[0;34m\u001b[0m\u001b[0m\n\u001b[1;32m     11\u001b[0m     \u001b[0;34m(\u001b[0m\u001b[0msamples\u001b[0m\u001b[0;34m,\u001b[0m \u001b[0msample_rate\u001b[0m\u001b[0;34m)\u001b[0m \u001b[0;34m=\u001b[0m \u001b[0msf\u001b[0m\u001b[0;34m.\u001b[0m\u001b[0mread\u001b[0m\u001b[0;34m(\u001b[0m\u001b[0mpath_wav\u001b[0m\u001b[0;34m)\u001b[0m\u001b[0;34m\u001b[0m\u001b[0m\n",
      "\u001b[0;32m/Users/AntonKarazeev/WD/neurohack/SenseOfSpeech/audiotranscode/__init__.py\u001b[0m in \u001b[0;36mtranscode\u001b[0;34m(self, in_file, out_file, bitrate)\u001b[0m\n\u001b[1;32m    248\u001b[0m         \u001b[0mself\u001b[0m\u001b[0;34m.\u001b[0m\u001b[0mcheck_encoder_available\u001b[0m\u001b[0;34m(\u001b[0m\u001b[0maudioformat\u001b[0m\u001b[0;34m)\u001b[0m\u001b[0;34m\u001b[0m\u001b[0m\n\u001b[1;32m    249\u001b[0m         \u001b[0;32mwith\u001b[0m \u001b[0mopen\u001b[0m\u001b[0;34m(\u001b[0m\u001b[0mout_file\u001b[0m\u001b[0;34m,\u001b[0m \u001b[0;34m'wb'\u001b[0m\u001b[0;34m)\u001b[0m \u001b[0;32mas\u001b[0m \u001b[0mfhandler\u001b[0m\u001b[0;34m:\u001b[0m\u001b[0;34m\u001b[0m\u001b[0m\n\u001b[0;32m--> 250\u001b[0;31m             \u001b[0;32mfor\u001b[0m \u001b[0mdata\u001b[0m \u001b[0;32min\u001b[0m \u001b[0mself\u001b[0m\u001b[0;34m.\u001b[0m\u001b[0mtranscode_stream\u001b[0m\u001b[0;34m(\u001b[0m\u001b[0min_file\u001b[0m\u001b[0;34m,\u001b[0m \u001b[0maudioformat\u001b[0m\u001b[0;34m,\u001b[0m \u001b[0mbitrate\u001b[0m\u001b[0;34m)\u001b[0m\u001b[0;34m:\u001b[0m\u001b[0;34m\u001b[0m\u001b[0m\n\u001b[0m\u001b[1;32m    251\u001b[0m                 \u001b[0mfhandler\u001b[0m\u001b[0;34m.\u001b[0m\u001b[0mwrite\u001b[0m\u001b[0;34m(\u001b[0m\u001b[0mdata\u001b[0m\u001b[0;34m)\u001b[0m\u001b[0;34m\u001b[0m\u001b[0m\n\u001b[1;32m    252\u001b[0m             \u001b[0mfhandler\u001b[0m\u001b[0;34m.\u001b[0m\u001b[0mclose\u001b[0m\u001b[0;34m(\u001b[0m\u001b[0;34m)\u001b[0m\u001b[0;34m\u001b[0m\u001b[0m\n",
      "\u001b[0;32m/Users/AntonKarazeev/WD/neurohack/SenseOfSpeech/audiotranscode/__init__.py\u001b[0m in \u001b[0;36mtranscode_stream\u001b[0;34m(self, filepath, newformat, bitrate, encoder, decoder)\u001b[0m\n\u001b[1;32m    271\u001b[0m         \u001b[0;32mexcept\u001b[0m \u001b[0mException\u001b[0m \u001b[0;32mas\u001b[0m \u001b[0mexc\u001b[0m\u001b[0;34m:\u001b[0m\u001b[0;34m\u001b[0m\u001b[0m\n\u001b[1;32m    272\u001b[0m             \u001b[0;31m#pass on exception, but clean up\u001b[0m\u001b[0;34m\u001b[0m\u001b[0;34m\u001b[0m\u001b[0m\n\u001b[0;32m--> 273\u001b[0;31m             \u001b[0;32mraise\u001b[0m \u001b[0mexc\u001b[0m\u001b[0;34m\u001b[0m\u001b[0m\n\u001b[0m\u001b[1;32m    274\u001b[0m         \u001b[0;32mfinally\u001b[0m\u001b[0;34m:\u001b[0m\u001b[0;34m\u001b[0m\u001b[0m\n\u001b[1;32m    275\u001b[0m             \u001b[0;32mif\u001b[0m \u001b[0mdecoder_process\u001b[0m \u001b[0;32mand\u001b[0m \u001b[0mdecoder_process\u001b[0m\u001b[0;34m.\u001b[0m\u001b[0mpoll\u001b[0m\u001b[0;34m(\u001b[0m\u001b[0;34m)\u001b[0m \u001b[0;32mis\u001b[0m \u001b[0;32mNone\u001b[0m\u001b[0;34m:\u001b[0m\u001b[0;34m\u001b[0m\u001b[0m\n",
      "\u001b[0;32m/Users/AntonKarazeev/WD/neurohack/SenseOfSpeech/audiotranscode/__init__.py\u001b[0m in \u001b[0;36mtranscode_stream\u001b[0;34m(self, filepath, newformat, bitrate, encoder, decoder)\u001b[0m\n\u001b[1;32m    260\u001b[0m         \u001b[0mencoder_process\u001b[0m \u001b[0;34m=\u001b[0m \u001b[0;32mNone\u001b[0m\u001b[0;34m\u001b[0m\u001b[0m\n\u001b[1;32m    261\u001b[0m         \u001b[0;32mtry\u001b[0m\u001b[0;34m:\u001b[0m\u001b[0;34m\u001b[0m\u001b[0m\n\u001b[0;32m--> 262\u001b[0;31m             \u001b[0mdecoder_process\u001b[0m \u001b[0;34m=\u001b[0m \u001b[0mself\u001b[0m\u001b[0;34m.\u001b[0m\u001b[0m_decode\u001b[0m\u001b[0;34m(\u001b[0m\u001b[0mfilepath\u001b[0m\u001b[0;34m,\u001b[0m \u001b[0mdecoder\u001b[0m\u001b[0;34m)\u001b[0m\u001b[0;34m\u001b[0m\u001b[0m\n\u001b[0m\u001b[1;32m    263\u001b[0m             encoder_process = self._encode(newformat, decoder_process,\n\u001b[1;32m    264\u001b[0m                                            bitrate=bitrate, encoder=encoder)\n",
      "\u001b[0;32m/Users/AntonKarazeev/WD/neurohack/SenseOfSpeech/audiotranscode/__init__.py\u001b[0m in \u001b[0;36m_decode\u001b[0;34m(self, filepath, decoder)\u001b[0m\n\u001b[1;32m    205\u001b[0m             \u001b[0mfilepath\u001b[0m \u001b[0;34m=\u001b[0m \u001b[0mos\u001b[0m\u001b[0;34m.\u001b[0m\u001b[0mpath\u001b[0m\u001b[0;34m.\u001b[0m\u001b[0mabspath\u001b[0m\u001b[0;34m(\u001b[0m\u001b[0mfilepath\u001b[0m\u001b[0;34m)\u001b[0m\u001b[0;34m\u001b[0m\u001b[0m\n\u001b[1;32m    206\u001b[0m             \u001b[0merrmsg\u001b[0m \u001b[0;34m=\u001b[0m \u001b[0;34m'File not Found! Cannot decode \"file\" %s'\u001b[0m\u001b[0;34m\u001b[0m\u001b[0m\n\u001b[0;32m--> 207\u001b[0;31m             \u001b[0;32mraise\u001b[0m \u001b[0mIOError\u001b[0m\u001b[0;34m(\u001b[0m\u001b[0merrmsg\u001b[0m \u001b[0;34m%\u001b[0m \u001b[0mfilepath\u001b[0m\u001b[0;34m)\u001b[0m\u001b[0;34m\u001b[0m\u001b[0m\n\u001b[0m\u001b[1;32m    208\u001b[0m         \u001b[0mfiletype\u001b[0m \u001b[0;34m=\u001b[0m \u001b[0m_filetype\u001b[0m\u001b[0;34m(\u001b[0m\u001b[0mfilepath\u001b[0m\u001b[0;34m)\u001b[0m\u001b[0;34m\u001b[0m\u001b[0m\n\u001b[1;32m    209\u001b[0m         \u001b[0;32mif\u001b[0m \u001b[0;32mnot\u001b[0m \u001b[0mfiletype\u001b[0m \u001b[0;32min\u001b[0m \u001b[0mself\u001b[0m\u001b[0;34m.\u001b[0m\u001b[0mavailable_decoder_formats\u001b[0m\u001b[0;34m(\u001b[0m\u001b[0;34m)\u001b[0m\u001b[0;34m:\u001b[0m\u001b[0;34m\u001b[0m\u001b[0m\n",
      "\u001b[0;31mOSError\u001b[0m: File not Found! Cannot decode \"file\" /Users/AntonKarazeev/WD/neurohack/SenseOfSpeech/wow_sure.ogg"
     ]
    }
   ],
   "source": [
    "valid, emo_dict = emotion_wrapper('wow_sure.ogg')"
   ]
  },
  {
   "cell_type": "code",
   "execution_count": null,
   "metadata": {},
   "outputs": [],
   "source": []
  },
  {
   "cell_type": "code",
   "execution_count": 12,
   "metadata": {},
   "outputs": [
    {
     "ename": "NameError",
     "evalue": "name 'emo_dict' is not defined",
     "output_type": "error",
     "traceback": [
      "\u001b[0;31m---------------------------------------------------------------------------\u001b[0m",
      "\u001b[0;31mNameError\u001b[0m                                 Traceback (most recent call last)",
      "\u001b[0;32m<ipython-input-12-d6333b2baca2>\u001b[0m in \u001b[0;36m<module>\u001b[0;34m()\u001b[0m\n\u001b[0;32m----> 1\u001b[0;31m \u001b[0memo_dict\u001b[0m\u001b[0;34m\u001b[0m\u001b[0m\n\u001b[0m",
      "\u001b[0;31mNameError\u001b[0m: name 'emo_dict' is not defined"
     ]
    }
   ],
   "source": [
    "emo_dict"
   ]
  },
  {
   "cell_type": "code",
   "execution_count": 13,
   "metadata": {},
   "outputs": [
    {
     "ename": "NameError",
     "evalue": "name 'valid' is not defined",
     "output_type": "error",
     "traceback": [
      "\u001b[0;31m---------------------------------------------------------------------------\u001b[0m",
      "\u001b[0;31mNameError\u001b[0m                                 Traceback (most recent call last)",
      "\u001b[0;32m<ipython-input-13-3e763157899d>\u001b[0m in \u001b[0;36m<module>\u001b[0;34m()\u001b[0m\n\u001b[0;32m----> 1\u001b[0;31m \u001b[0;32mif\u001b[0m \u001b[0mvalid\u001b[0m\u001b[0;34m:\u001b[0m\u001b[0;34m\u001b[0m\u001b[0m\n\u001b[0m\u001b[1;32m      2\u001b[0m     \u001b[0mprint\u001b[0m\u001b[0;34m(\u001b[0m\u001b[0;34m'\\n'\u001b[0m\u001b[0;34m.\u001b[0m\u001b[0mjoin\u001b[0m\u001b[0;34m(\u001b[0m\u001b[0mwith_emoji\u001b[0m\u001b[0;34m(\u001b[0m\u001b[0memo_dict\u001b[0m\u001b[0;34m,\u001b[0m \u001b[0memo_mapping\u001b[0m\u001b[0;34m)\u001b[0m\u001b[0;34m)\u001b[0m\u001b[0;34m)\u001b[0m\u001b[0;34m\u001b[0m\u001b[0m\n\u001b[1;32m      3\u001b[0m \u001b[0;32melse\u001b[0m\u001b[0;34m:\u001b[0m\u001b[0;34m\u001b[0m\u001b[0m\n\u001b[1;32m      4\u001b[0m     \u001b[0merr_message\u001b[0m \u001b[0;34m=\u001b[0m \u001b[0memoji\u001b[0m\u001b[0;34m.\u001b[0m\u001b[0memojize\u001b[0m\u001b[0;34m(\u001b[0m\u001b[0;34m\"¯\\_(ツ)_/¯\"\u001b[0m\u001b[0;34m,\u001b[0m \u001b[0muse_aliases\u001b[0m\u001b[0;34m=\u001b[0m\u001b[0;32mTrue\u001b[0m\u001b[0;34m)\u001b[0m\u001b[0;34m\u001b[0m\u001b[0m\n\u001b[1;32m      5\u001b[0m     \u001b[0mprint\u001b[0m\u001b[0;34m(\u001b[0m\u001b[0merr_message\u001b[0m\u001b[0;34m)\u001b[0m\u001b[0;34m\u001b[0m\u001b[0m\n",
      "\u001b[0;31mNameError\u001b[0m: name 'valid' is not defined"
     ]
    }
   ],
   "source": [
    "if valid:\n",
    "    print('\\n'.join(with_emoji(emo_dict, emo_mapping)))\n",
    "else:\n",
    "    err_message = emoji.emojize(\"¯\\_(ツ)_/¯\", use_aliases=True)\n",
    "    print(err_message)"
   ]
  },
  {
   "cell_type": "code",
   "execution_count": 14,
   "metadata": {},
   "outputs": [
    {
     "ename": "NameError",
     "evalue": "name 'emo_dict' is not defined",
     "output_type": "error",
     "traceback": [
      "\u001b[0;31m---------------------------------------------------------------------------\u001b[0m",
      "\u001b[0;31mNameError\u001b[0m                                 Traceback (most recent call last)",
      "\u001b[0;32m<ipython-input-14-d6333b2baca2>\u001b[0m in \u001b[0;36m<module>\u001b[0;34m()\u001b[0m\n\u001b[0;32m----> 1\u001b[0;31m \u001b[0memo_dict\u001b[0m\u001b[0;34m\u001b[0m\u001b[0m\n\u001b[0m",
      "\u001b[0;31mNameError\u001b[0m: name 'emo_dict' is not defined"
     ]
    }
   ],
   "source": [
    "emo_dict"
   ]
  },
  {
   "cell_type": "code",
   "execution_count": 15,
   "metadata": {
    "collapsed": true
   },
   "outputs": [],
   "source": [
    "testdict = {'a': 1, 'b': 2}"
   ]
  },
  {
   "cell_type": "code",
   "execution_count": 16,
   "metadata": {},
   "outputs": [
    {
     "data": {
      "text/plain": [
       "{1: 'a', 2: 'b'}"
      ]
     },
     "execution_count": 16,
     "metadata": {},
     "output_type": "execute_result"
    }
   ],
   "source": [
    "dict(zip(testdict.values(), testdict.keys()))"
   ]
  },
  {
   "cell_type": "code",
   "execution_count": null,
   "metadata": {
    "collapsed": true
   },
   "outputs": [],
   "source": []
  },
  {
   "cell_type": "code",
   "execution_count": null,
   "metadata": {
    "collapsed": true
   },
   "outputs": [],
   "source": []
  },
  {
   "cell_type": "markdown",
   "metadata": {},
   "source": [
    "# Let's GO"
   ]
  },
  {
   "cell_type": "code",
   "execution_count": 17,
   "metadata": {
    "collapsed": true
   },
   "outputs": [],
   "source": [
    "from util import logger, emotion_file_path, emo_distribution, to_text\n",
    "from accessories import actions, rev_actions, rev_mapping"
   ]
  },
  {
   "cell_type": "code",
   "execution_count": 25,
   "metadata": {},
   "outputs": [
    {
     "data": {
      "text/plain": [
       "{'anger': 0.9995287435466227,\n",
       " 'fear': 6.572438958602349e-10,\n",
       " 'happiness': 2.0288595201133144e-05,\n",
       " 'neutrality': 0.0004195648455337856,\n",
       " 'sadness': 3.140235539847084e-05}"
      ]
     },
     "execution_count": 25,
     "metadata": {},
     "output_type": "execute_result"
    }
   ],
   "source": [
    "emotion = 'anger'\n",
    "valid, emo_dict1 = emo_distribution(emotion_file_path(emotion))\n",
    "emo_dict1"
   ]
  },
  {
   "cell_type": "code",
   "execution_count": 27,
   "metadata": {},
   "outputs": [
    {
     "data": {
      "text/plain": [
       "{'anger': 0.0015831422289514314,\n",
       " 'fear': 0.9755983599427229,\n",
       " 'happiness': 0.0069784240971001825,\n",
       " 'neutrality': 0.01524911470212832,\n",
       " 'sadness': 0.0005909590290971136}"
      ]
     },
     "execution_count": 27,
     "metadata": {},
     "output_type": "execute_result"
    }
   ],
   "source": [
    "emotion = 'fear'\n",
    "valid, emo_dict2 = emo_distribution(emotion_file_path(emotion))\n",
    "emo_dict2"
   ]
  },
  {
   "cell_type": "code",
   "execution_count": 36,
   "metadata": {},
   "outputs": [
    {
     "data": {
      "text/plain": [
       "[('anger', 0.9995287435466227),\n",
       " ('fear', 6.572438958602349e-10),\n",
       " ('happiness', 2.0288595201133144e-05),\n",
       " ('neutrality', 0.0004195648455337856),\n",
       " ('sadness', 3.140235539847084e-05)]"
      ]
     },
     "execution_count": 36,
     "metadata": {},
     "output_type": "execute_result"
    }
   ],
   "source": [
    "sorted(emo_dict1.items(), key=lambda x: x[0])"
   ]
  },
  {
   "cell_type": "code",
   "execution_count": 46,
   "metadata": {},
   "outputs": [
    {
     "data": {
      "text/plain": [
       "array([  9.99528744e-01,   6.57243896e-10,   2.02885952e-05,\n",
       "         4.19564846e-04,   3.14023554e-05])"
      ]
     },
     "execution_count": 46,
     "metadata": {},
     "output_type": "execute_result"
    }
   ],
   "source": [
    "emotions1 = np.array(list(map(lambda x: x[1], sorted(emo_dict1.items(), key=lambda x: x[0]))))\n",
    "emotions1"
   ]
  },
  {
   "cell_type": "code",
   "execution_count": 47,
   "metadata": {},
   "outputs": [
    {
     "data": {
      "text/plain": [
       "array([  1.58314223e-03,   9.75598360e-01,   6.97842410e-03,\n",
       "         1.52491147e-02,   5.90959029e-04])"
      ]
     },
     "execution_count": 47,
     "metadata": {},
     "output_type": "execute_result"
    }
   ],
   "source": [
    "emotions2 = np.array(list(map(lambda x: x[1], sorted(emo_dict2.items(), key=lambda x: x[0]))))\n",
    "emotions2"
   ]
  },
  {
   "cell_type": "code",
   "execution_count": 53,
   "metadata": {
    "scrolled": true
   },
   "outputs": [
    {
     "data": {
      "text/plain": [
       "1.9479562261320902"
      ]
     },
     "execution_count": 53,
     "metadata": {},
     "output_type": "execute_result"
    }
   ],
   "source": [
    "sum((emotions1 - emotions2) ** 2)"
   ]
  },
  {
   "cell_type": "code",
   "execution_count": 63,
   "metadata": {
    "collapsed": true
   },
   "outputs": [],
   "source": [
    "def emo_distance(emo_dict1, emo_dict2):\n",
    "    def get_array(emo_dict):\n",
    "        return np.array(list(map(lambda x: x[1], sorted(emo_dict.items(), key=lambda x: x[0]))))\n",
    "\n",
    "    emotions1 = get_array(emo_dict1)\n",
    "    emotions2 = get_array(emo_dict2)\n",
    "\n",
    "    tmp_sum = sum((emotions1 - emotions2) ** 2)\n",
    "\n",
    "    return np.sqrt(tmp_sum)"
   ]
  },
  {
   "cell_type": "code",
   "execution_count": 64,
   "metadata": {},
   "outputs": [
    {
     "data": {
      "text/plain": [
       "1.3956920240984723"
      ]
     },
     "execution_count": 64,
     "metadata": {},
     "output_type": "execute_result"
    }
   ],
   "source": [
    "emo_distance(emo_dict1, emo_dict2)"
   ]
  },
  {
   "cell_type": "code",
   "execution_count": 65,
   "metadata": {},
   "outputs": [
    {
     "data": {
      "text/plain": [
       "'kek 👍 lol'"
      ]
     },
     "execution_count": 65,
     "metadata": {},
     "output_type": "execute_result"
    }
   ],
   "source": [
    "emoji.emojize(\"kek :thumbsup: lol\", use_aliases=True)"
   ]
  },
  {
   "cell_type": "code",
   "execution_count": 71,
   "metadata": {},
   "outputs": [
    {
     "data": {
      "text/plain": [
       "'Well done 👍'"
      ]
     },
     "execution_count": 71,
     "metadata": {},
     "output_type": "execute_result"
    }
   ],
   "source": [
    "emoji.emojize(\"Well done :thumbsup:\", use_aliases=True)"
   ]
  },
  {
   "cell_type": "code",
   "execution_count": 70,
   "metadata": {},
   "outputs": [
    {
     "data": {
      "text/plain": [
       "\"It's ok 👌\""
      ]
     },
     "execution_count": 70,
     "metadata": {},
     "output_type": "execute_result"
    }
   ],
   "source": [
    "emoji.emojize(\"It's ok :ok_hand:\", use_aliases=True)"
   ]
  },
  {
   "cell_type": "code",
   "execution_count": 69,
   "metadata": {},
   "outputs": [
    {
     "data": {
      "text/plain": [
       "'Keep trying 😅'"
      ]
     },
     "execution_count": 69,
     "metadata": {},
     "output_type": "execute_result"
    }
   ],
   "source": [
    "emoji.emojize(\"Keep trying :sweat_smile:\", use_aliases=True)"
   ]
  }
 ],
 "metadata": {
  "kernelspec": {
   "display_name": "Python 3",
   "language": "python",
   "name": "python3"
  },
  "language_info": {
   "codemirror_mode": {
    "name": "ipython",
    "version": 3
   },
   "file_extension": ".py",
   "mimetype": "text/x-python",
   "name": "python",
   "nbconvert_exporter": "python",
   "pygments_lexer": "ipython3",
   "version": "3.6.2"
  }
 },
 "nbformat": 4,
 "nbformat_minor": 2
}
